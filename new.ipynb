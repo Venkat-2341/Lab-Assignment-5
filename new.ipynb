{
 "cells": [
  {
   "cell_type": "code",
   "execution_count": 6,
   "metadata": {},
   "outputs": [],
   "source": [
    "import os\n",
    "import shutil\n",
    "import random\n",
    "import numpy as np\n",
    "np.float = float\n",
    "from sklearn.model_selection import train_test_split\n",
    "from PIL import Image\n",
    "import augly.image.functional as imf\n",
    "import matplotlib.pyplot as plt\n",
    "from tqdm import tqdm"
   ]
  },
  {
   "cell_type": "code",
   "execution_count": 7,
   "metadata": {},
   "outputs": [
    {
     "name": "stdout",
     "output_type": "stream",
     "text": [
      "Original Train Set: 112 images\n",
      "Original Test Set: 28 images\n",
      "Dataset successfully prepared with train-test split!\n"
     ]
    }
   ],
   "source": [
    "cat_dir = \"cats\"\n",
    "dog_dir = \"dogs\"\n",
    "dataset_dir = \"dataset\"\n",
    "\n",
    "# Prepare lists\n",
    "data = []\n",
    "labels = []\n",
    "\n",
    "# Read cat images\n",
    "for img in os.listdir(cat_dir):\n",
    "    data.append(os.path.join(cat_dir, img))\n",
    "    labels.append(0)  # 0 for cat\n",
    "\n",
    "# Read dog images\n",
    "for img in os.listdir(dog_dir):\n",
    "    data.append(os.path.join(dog_dir, img))\n",
    "    labels.append(1)  # 1 for dog\n",
    "\n",
    "# Train-test split (80-20)\n",
    "train_data, test_data, train_labels, test_labels = train_test_split(\n",
    "    data, labels, test_size=0.2, random_state=42, stratify=labels\n",
    ")\n",
    "\n",
    "# Function to copy images into train/test folders\n",
    "def copy_images(file_list, label_list, target_folder):\n",
    "    for file, label in zip(file_list, label_list):\n",
    "        label_folder = os.path.join(target_folder, str(label))  \n",
    "        os.makedirs(label_folder, exist_ok=True)\n",
    "        shutil.copy(file, label_folder)\n",
    "\n",
    "# Create train/test folders\n",
    "train_folder = os.path.join(dataset_dir, \"train\")\n",
    "test_folder = os.path.join(dataset_dir, \"test\")\n",
    "\n",
    "copy_images(train_data, train_labels, train_folder)\n",
    "copy_images(test_data, test_labels, test_folder)\n",
    "\n",
    "print(f\"Original Train Set: {len(train_data)} images\")\n",
    "print(f\"Original Test Set: {len(test_data)} images\")\n",
    "print(\"Dataset successfully prepared with train-test split!\")\n"
   ]
  },
  {
   "cell_type": "code",
   "execution_count": null,
   "metadata": {},
   "outputs": [],
   "source": []
  }
 ],
 "metadata": {
  "kernelspec": {
   "display_name": "Python 3",
   "language": "python",
   "name": "python3"
  },
  "language_info": {
   "codemirror_mode": {
    "name": "ipython",
    "version": 3
   },
   "file_extension": ".py",
   "mimetype": "text/x-python",
   "name": "python",
   "nbconvert_exporter": "python",
   "pygments_lexer": "ipython3",
   "version": "3.12.4"
  }
 },
 "nbformat": 4,
 "nbformat_minor": 2
}
