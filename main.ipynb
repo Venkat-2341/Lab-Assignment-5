{
 "cells": [
  {
   "cell_type": "code",
   "execution_count": 2,
   "metadata": {},
   "outputs": [
    {
     "name": "stdout",
     "output_type": "stream",
     "text": [
      "Dataset successfully prepared with train-test split!\n"
     ]
    }
   ],
   "source": [
    "import os\n",
    "import shutil\n",
    "import random\n",
    "from sklearn.model_selection import train_test_split\n",
    "\n",
    "cat_dir = \"cats\"\n",
    "dog_dir = \"dogs\"\n",
    "combined_dir = \"dataset\"\n",
    "\n",
    "if not os.path.exists(combined_dir):\n",
    "    os.makedirs(combined_dir)\n",
    "\n",
    "data = []\n",
    "labels = []\n",
    "\n",
    "for img in os.listdir(cat_dir):\n",
    "    data.append(os.path.join(cat_dir, img))\n",
    "    labels.append(0)  # 0 for cat\n",
    "\n",
    "for img in os.listdir(dog_dir):\n",
    "    data.append(os.path.join(dog_dir, img))\n",
    "    labels.append(1)  # 1 for dog\n",
    "\n",
    "train_data, test_data, train_labels, test_labels = train_test_split(data, labels, test_size=0.2, random_state=42, stratify=labels)\n",
    "\n",
    "def copy_images(file_list, label_list, target_folder):\n",
    "    for file, label in zip(file_list, label_list):\n",
    "        label_folder = os.path.join(target_folder, str(label))  \n",
    "        os.makedirs(label_folder, exist_ok=True)\n",
    "        shutil.copy(file, label_folder)\n",
    "\n",
    "train_folder = os.path.join(combined_dir, \"train\")\n",
    "test_folder = os.path.join(combined_dir, \"test\")\n",
    "\n",
    "copy_images(train_data, train_labels, train_folder)\n",
    "copy_images(test_data, test_labels, test_folder)\n",
    "\n",
    "print(\"Dataset successfully prepared with train-test split!\")"
   ]
  },
  {
   "cell_type": "code",
   "execution_count": 7,
   "metadata": {},
   "outputs": [
    {
     "data": {
      "text/plain": [
       "([0, 0, 0, 1, 1, 1, 0, 1, 0, 0], [1, 1, 0, 1, 0, 1, 0, 0, 0, 1])"
      ]
     },
     "execution_count": 7,
     "metadata": {},
     "output_type": "execute_result"
    }
   ],
   "source": [
    "train_labels[:10], test_labels[:10]"
   ]
  },
  {
   "cell_type": "code",
   "execution_count": null,
   "metadata": {},
   "outputs": [],
   "source": []
  }
 ],
 "metadata": {
  "kernelspec": {
   "display_name": "Python 3",
   "language": "python",
   "name": "python3"
  },
  "language_info": {
   "codemirror_mode": {
    "name": "ipython",
    "version": 3
   },
   "file_extension": ".py",
   "mimetype": "text/x-python",
   "name": "python",
   "nbconvert_exporter": "python",
   "pygments_lexer": "ipython3",
   "version": "3.12.4"
  }
 },
 "nbformat": 4,
 "nbformat_minor": 2
}
